{
 "cells": [
  {
   "cell_type": "markdown",
   "metadata": {},
   "source": [
    "Let's load some 1D data and get some insight into it!\n",
    "\n",
    "To keep this section nice and simple, the data generated is something I've thrown together. It's not just an analytic function from `scipy` - that would make it too easy - but I've made sure its not pathological.\n",
    "\n",
    "Let's start with the imports to make sure we have everything right at the beginning. If this errors, `pip install` whichever dependency you don't have. If you have issues (especially on windows machines with numpy) try using `conda install`. For example, `conda install numpy`.\n",
    "\n",
    "Also, if you want to get the same dark theme in your notebook as me, check out [jupyter-themes](https://github.com/dunovank/jupyter-themes)."
   ]
  },
  {
   "cell_type": "code",
   "execution_count": null,
   "metadata": {},
   "outputs": [],
   "source": [
    "import numpy as np\n",
    "import matplotlib.pyplot as plt\n",
    "import seaborn as sb\n",
    "import pandas as pd"
   ]
  },
  {
   "cell_type": "code",
   "execution_count": null,
   "metadata": {},
   "outputs": [],
   "source": [
    "d1 = np.loadtxt(\"example_1.txt\")\n",
    "d2 = np.loadtxt(\"example_2.txt\")\n",
    "print(d1.shape, d2.shape)"
   ]
  },
  {
   "cell_type": "markdown",
   "metadata": {},
   "source": [
    "*******\n",
    "# Bee Swarm Plots"
   ]
  },
  {
   "cell_type": "code",
   "execution_count": null,
   "metadata": {},
   "outputs": [],
   "source": [
    "dataset = pd.DataFrame({\n",
    "    \"value\": np.concatenate((d1, d2)),\n",
    "    \"type\": np.concatenate((np.ones(d1.shape), np.zeros(d2.shape)))\n",
    "})\n",
    "dataset.info()"
   ]
  },
  {
   "cell_type": "code",
   "execution_count": null,
   "metadata": {},
   "outputs": [],
   "source": [
    "sb.swarmplot(dataset[\"value\"])"
   ]
  },
  {
   "cell_type": "code",
   "execution_count": null,
   "metadata": {},
   "outputs": [],
   "source": [
    "sb.swarmplot(x=\"type\", y=\"value\", data=dataset, size=2);"
   ]
  }
 ],
 "metadata": {
  "kernelspec": {
   "display_name": "Python 3",
   "language": "python",
   "name": "python3"
  },
  "language_info": {
   "codemirror_mode": {
    "name": "ipython",
    "version": 3
   },
   "file_extension": ".py",
   "mimetype": "text/x-python",
   "name": "python",
   "nbconvert_exporter": "python",
   "pygments_lexer": "ipython3",
   "version": "3.7.3"
  }
 },
 "nbformat": 4,
 "nbformat_minor": 2
}
