{
 "cells": [
  {
   "cell_type": "markdown",
   "metadata": {},
   "source": [
    "# Outliers\n",
    "\n",
    "Sometimes our data is not nice enough to simply have a `NaN` or zero value to make it easy to tell what we should remove. Sometimes our data has outliers in it. So lets look at some strategies to identifying these points."
   ]
  },
  {
   "cell_type": "code",
   "execution_count": null,
   "metadata": {},
   "outputs": [],
   "source": [
    "import numpy as np\n",
    "import matplotlib.pyplot as plt\n",
    "\n",
    "d1 = np.loadtxt(\"outlier_1d.txt\")\n",
    "d2 = np.loadtxt(\"outlier_2d.txt\")\n",
    "d3 = np.loadtxt(\"outlier_curve.txt\")\n",
    "print(d1.shape, d2.shape)\n",
    "\n",
    "plt.scatter(d1, np.random.normal(7, 0.2, size=d1.size), s=1, alpha=0.5)\n",
    "plt.scatter(d2[:, 0], d2[:, 1], s=5)\n",
    "plt.show();\n",
    "plt.plot(d3[:, 0], d3[:, 1]);"
   ]
  },
  {
   "cell_type": "markdown",
   "metadata": {},
   "source": [
    "# Basics\n",
    "\n",
    "The most basic and most-common way of manually doing outlier pruning on data distributions is to:\n",
    "\n",
    "1. Model your data as some analytic distribution\n",
    "2. Find all points below a certain probability\n",
    "3. Remove them\n",
    "4. Refit the distributions, and potentially run again from Step 1."
   ]
  },
  {
   "cell_type": "code",
   "execution_count": null,
   "metadata": {},
   "outputs": [],
   "source": [
    "mean, std = np.mean(d1), np.std(d1)\n",
    "z_score = np.abs((d1 - mean) / std)\n",
    "threshold = 3\n",
    "good = z_score < threshold\n",
    "\n",
    "print(f\"Rejection {(~good).sum()} points\")\n",
    "from scipy.stats import norm\n",
    "print(f\"z-score of 3 corresponds to a prob of {100 * 2 * norm.sf(threshold):0.2f}%\")\n",
    "visual_scatter = np.random.normal(size=d1.size)\n",
    "plt.scatter(d1[good], visual_scatter[good], s=2, label=\"Good\", color=\"#4CAF50\")\n",
    "plt.scatter(d1[~good], visual_scatter[~good], s=8, label=\"Bad\", color=\"#F44336\")\n",
    "plt.legend();"
   ]
  },
  {
   "cell_type": "code",
   "execution_count": null,
   "metadata": {},
   "outputs": [],
   "source": [
    "from scipy.stats import multivariate_normal as mn\n",
    "\n",
    "mean, cov = np.mean(d2, axis=0), np.cov(d2.T)\n",
    "good = mn(mean, cov).pdf(d2) > 0.01 / 100\n",
    "\n",
    "plt.scatter(d2[good, 0], d2[good, 1], s=2, label=\"Good\", color=\"#4CAF50\")\n",
    "plt.scatter(d2[~good, 0], d2[~good, 1], s=8, label=\"Bad\", color=\"#F44336\")\n",
    "plt.legend();"
   ]
  },
  {
   "cell_type": "markdown",
   "metadata": {},
   "source": [
    "So, how do we pick what our threshold should be? Visual inspection is actually hard to beat. You can make an argument for relating the number to the number of samples you have or how much of the data you are willing to cut, but be warned that too much rejection is going to eat away at your actual data sample and bias your results.\n",
    "\n",
    "# Outliers in curve fitting\n",
    "\n",
    "If you don't have a distribution but instead have data with uncertainties, you can do similar things. To take a real world example, in an [old paper of mine](https://arxiv.org/abs/1603.09438), we have some value of xs, ys and error (wavelength, flux and flux error) and want to subtract the smooth background. We wanted to do this with a simple polynomial fit, but unfortunately the data had several emission lines and cosmic ray impacts in it (visible as spikes) which biased our poly fitting and so we had to remove them.\n",
    "\n",
    "What we did is fit a polynomial to it, remove all points more than three standard deviations from polynomial from consideration and loop until all points are within three standard deviations. In the example below, for simplicity the data is normalised so that all errors are one."
   ]
  },
  {
   "cell_type": "code",
   "execution_count": null,
   "metadata": {},
   "outputs": [],
   "source": [
    "xs, ys = d3.T\n",
    "p = np.polyfit(xs, ys,deg=5)\n",
    "ps = np.polyval(p, xs)\n",
    "plt.plot(xs, ys, \".\", label=\"Data\", ms=1)\n",
    "plt.plot(xs, ps, label=\"Bad poly fit\")\n",
    "plt.legend();"
   ]
  },
  {
   "cell_type": "code",
   "execution_count": null,
   "metadata": {},
   "outputs": [],
   "source": [
    "x, y = xs.copy(), ys.copy()\n",
    "for i in range(5):\n",
    "    p = np.polyfit(x, y, deg=5)\n",
    "    ps = np.polyval(p, x)\n",
    "    good = y - ps < 3  # only remove positive outliers\n",
    "    \n",
    "    x_bad, y_bad = x[~good], y[~good]\n",
    "    x, y = x[good], y[good]\n",
    "    \n",
    "    plt.plot(x, y, \".\", label=\"Used Data\", ms=1)\n",
    "    plt.plot(x, np.polyval(p, x), label=f\"Poly fit {i}\")\n",
    "    plt.plot(x_bad, y_bad, \".\", label=\"Not used Data\", ms=5, c=\"r\")\n",
    "    plt.legend()\n",
    "    plt.show()\n",
    "    \n",
    "    if (~good).sum() == 0:\n",
    "        break"
   ]
  },
  {
   "cell_type": "markdown",
   "metadata": {},
   "source": [
    "# Automating it\n",
    "\n",
    "Blessed `sklearn` to the rescue. Check out [the main page](https://scikit-learn.org/stable/modules/outlier_detection.html) which lists a ton of ways you can do outlier detection. I think LOF (Local Outlier Finder) is great - it uses the distance from one point to its closest twenty neighbours to figure out point density and removes those in low density regions."
   ]
  },
  {
   "cell_type": "code",
   "execution_count": null,
   "metadata": {},
   "outputs": [],
   "source": [
    "from sklearn.neighbors import LocalOutlierFactor\n",
    "\n",
    "lof = LocalOutlierFactor(n_neighbors=20, contamination=0.005)\n",
    "good = lof.fit_predict(d2) == 1\n",
    "plt.scatter(d2[good, 0], d2[good, 1], s=2, label=\"Good\", color=\"#4CAF50\")\n",
    "plt.scatter(d2[~good, 0], d2[~good, 1], s=8, label=\"Bad\", color=\"#F44336\")\n",
    "plt.legend();"
   ]
  }
 ],
 "metadata": {
  "kernelspec": {
   "display_name": "Python 3",
   "language": "python",
   "name": "python3"
  },
  "language_info": {
   "codemirror_mode": {
    "name": "ipython",
    "version": 3
   },
   "file_extension": ".py",
   "mimetype": "text/x-python",
   "name": "python",
   "nbconvert_exporter": "python",
   "pygments_lexer": "ipython3",
   "version": "3.7.3"
  }
 },
 "nbformat": 4,
 "nbformat_minor": 2
}
