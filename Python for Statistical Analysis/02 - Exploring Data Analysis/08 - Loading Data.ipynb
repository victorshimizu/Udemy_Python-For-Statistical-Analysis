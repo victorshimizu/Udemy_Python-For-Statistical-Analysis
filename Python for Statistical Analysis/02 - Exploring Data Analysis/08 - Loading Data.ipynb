{
 "cells": [
  {
   "cell_type": "code",
   "execution_count": null,
   "metadata": {},
   "outputs": [],
   "source": [
    "# EDA - Exploratory Data Analysis\n",
    "\n",
    "# Exploring your data visually in order to catch similarities\n",
    "\n",
    "# 1 - Datasets and Data Prep\n",
    "\n",
    "# Loading Datasets:\n",
    "\n",
    "#     1 - Manually: last resort\n",
    "#     2 - numpy.loadtxt: simple and homogeneous files (same datatype) \n",
    "#     3 - numpy.genfromtxt: simple and heterogeneous\n",
    "#     4 - pandas.read_csv: highly flexibe reader\n",
    "#     5 - pickle: python object that you've serialized direct to file"
   ]
  }
 ],
 "metadata": {
  "kernelspec": {
   "display_name": "Python 3",
   "language": "python",
   "name": "python3"
  },
  "language_info": {
   "codemirror_mode": {
    "name": "ipython",
    "version": 3
   },
   "file_extension": ".py",
   "mimetype": "text/x-python",
   "name": "python",
   "nbconvert_exporter": "python",
   "pygments_lexer": "ipython3",
   "version": "3.7.3"
  }
 },
 "nbformat": 4,
 "nbformat_minor": 2
}
